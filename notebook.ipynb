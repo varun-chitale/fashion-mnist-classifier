{
  "cells": [
    {
      "cell_type": "code",
      "execution_count": 16,
      "metadata": {
        "id": "8vU3grgHvpJW"
      },
      "outputs": [],
      "source": [
        "import os\n",
        "os.environ[\"CUDA_DEVICE_ORDER\"]=\"PCI_BUS_ID\"\n",
        "os.environ[\"CUDA_VISIBLE_DEVICES\"]=\"0\" #model will be trained on GPU 0"
      ]
    },
    {
      "cell_type": "code",
      "execution_count": 17,
      "metadata": {
        "id": "f5JZj_hEv9c0"
      },
      "outputs": [],
      "source": [
        "from matplotlib import pyplot as plt\n",
        "import numpy as np\n",
        "import gzip\n",
        "%matplotlib inline\n",
        "from tensorflow.keras.models import Model\n",
        "from tensorflow.keras.layers import Input,Dense,Flatten,Dropout,Concatenate,Reshape,Conv2D,MaxPooling2D,UpSampling2D,Conv2DTranspose\n",
        "from tensorflow.keras.layers import BatchNormalization\n",
        "from tensorflow.keras.models import Model,Sequential,load_model\n",
        "from tensorflow.keras.callbacks import ModelCheckpoint\n",
        "from tensorflow.keras.optimizers import Adadelta, RMSprop,SGD,Adam\n",
        "from tensorflow.keras import regularizers\n",
        "from tensorflow.keras.losses import categorical_crossentropy\n",
        "from tensorflow.keras import backend as K\n",
        "from tensorflow.keras.utils import to_categorical\n",
        "from tensorflow.keras.datasets import fashion_mnist"
      ]
    },
    {
      "cell_type": "code",
      "execution_count": 18,
      "metadata": {
        "colab": {
          "base_uri": "https://localhost:8080/",
          "height": 38
        },
        "id": "fybMBo1r3ekm",
        "outputId": "75cab13d-05a7-41b3-a572-d8a9cd1962c8"
      },
      "outputs": [
        {
          "output_type": "execute_result",
          "data": {
            "text/plain": [
              "'/device:GPU:0'"
            ],
            "application/vnd.google.colaboratory.intrinsic+json": {
              "type": "string"
            }
          },
          "metadata": {},
          "execution_count": 18
        }
      ],
      "source": [
        "import tensorflow as tf\n",
        "tf.test.gpu_device_name()"
      ]
    },
    {
      "cell_type": "code",
      "execution_count": 19,
      "metadata": {
        "id": "ugv5p46Xv9pC"
      },
      "outputs": [],
      "source": [
        "(x_train, y_train), (x_test, y_test) = fashion_mnist.load_data()\n",
        "assert x_train.shape == (60000, 28, 28)\n",
        "assert x_test.shape == (10000, 28, 28)\n",
        "assert y_train.shape == (60000,)\n",
        "assert y_test.shape == (10000,)"
      ]
    },
    {
      "cell_type": "code",
      "execution_count": 20,
      "metadata": {
        "id": "wlFy1AEUv9rs"
      },
      "outputs": [],
      "source": [
        "label_dict = {\n",
        " 0: 'T-shirt/top',\n",
        " 1: 'Trouser',\n",
        " 2: 'Pullover',\n",
        " 3: 'Dress',\n",
        " 4: 'Coat',\n",
        " 5: 'Sandal',\n",
        " 6: 'Shirt',\n",
        " 7: 'Sneaker',\n",
        " 8: 'Bag',\n",
        " 9: 'Ankle boot',\n",
        "}"
      ]
    },
    {
      "cell_type": "code",
      "execution_count": 21,
      "metadata": {
        "colab": {
          "base_uri": "https://localhost:8080/",
          "height": 208
        },
        "id": "jJ3KV0ozv9uO",
        "outputId": "20286d0a-8487-408b-bcd3-20e6f0deecba"
      },
      "outputs": [
        {
          "output_type": "execute_result",
          "data": {
            "text/plain": [
              "Text(0.5, 1.0, '(Label: T-shirt/top)')"
            ]
          },
          "metadata": {},
          "execution_count": 21
        },
        {
          "output_type": "display_data",
          "data": {
            "text/plain": [
              "<Figure size 360x360 with 1 Axes>"
            ],
            "image/png": "[encoded data removed]"
          },
          "metadata": {
            "needs_background": "light"
          }
        }
      ],
      "source": [
        "plt.figure(figsize=[5,5])\n",
        "\n",
        "# Display the first image in training data\n",
        "plt.subplot(121)\n",
        "curr_img = np.reshape(x_train[10], (28,28))\n",
        "curr_lbl = y_train[10]\n",
        "plt.imshow(curr_img, cmap='gray')\n",
        "plt.title(\"(Label: \" + str(label_dict[curr_lbl]) + \")\")"
      ]
    },
    {
      "cell_type": "code",
      "execution_count": 22,
      "metadata": {
        "id": "AmgMNY9tv9wm",
        "colab": {
          "base_uri": "https://localhost:8080/"
        },
        "outputId": "5d8ff2db-dfb8-4569-9196-3789ee723001"
      },
      "outputs": [
        {
          "output_type": "execute_result",
          "data": {
            "text/plain": [
              "((60000, 28, 28, 1), (10000, 28, 28, 1))"
            ]
          },
          "metadata": {},
          "execution_count": 22
        }
      ],
      "source": [
        "# Data Preprocessing\n",
        "x_train = x_train.reshape(-1, 28,28, 1)\n",
        "x_test = x_test.reshape(-1, 28,28, 1)\n",
        "x_train.shape, x_test.shape"
      ]
    },
    {
      "cell_type": "code",
      "execution_count": 23,
      "metadata": {
        "colab": {
          "base_uri": "https://localhost:8080/"
        },
        "id": "Ax9yU08gzZER",
        "outputId": "cd52353d-8546-4d2c-fcd7-0be314726544"
      },
      "outputs": [
        {
          "output_type": "execute_result",
          "data": {
            "text/plain": [
              "(dtype('uint8'), dtype('uint8'), 255, 255)"
            ]
          },
          "metadata": {},
          "execution_count": 23
        }
      ],
      "source": [
        "# Validation dtypes, range\n",
        "x_train.dtype, x_test.dtype, np.max(x_train), np.max(x_test)"
      ]
    },
    {
      "cell_type": "code",
      "execution_count": 24,
      "metadata": {
        "colab": {
          "base_uri": "https://localhost:8080/"
        },
        "id": "qf15_oXk4g-3",
        "outputId": "1c485d15-91ae-420e-bf0f-5dbcb510f99c"
      },
      "outputs": [
        {
          "output_type": "execute_result",
          "data": {
            "text/plain": [
              "(1.0, 1.0)"
            ]
          },
          "metadata": {},
          "execution_count": 24
        }
      ],
      "source": [
        "# Scaling\n",
        "x_train = x_train / np.max(x_train)\n",
        "x_test = x_test / np.max(x_test)\n",
        "np.max(x_train), np.max(x_test)"
      ]
    },
    {
      "cell_type": "markdown",
      "metadata": {
        "id": "K9ogxg64DE49"
      },
      "source": [
        "## Autoencoder to understand the data"
      ]
    },
    {
      "cell_type": "code",
      "execution_count": 25,
      "metadata": {
        "id": "IcED_SpezunB"
      },
      "outputs": [],
      "source": [
        "## Spliting training data to train and validate\n",
        "from sklearn.model_selection import train_test_split\n",
        "train_X,valid_X,train_ground,valid_ground = train_test_split(x_train,\n",
        "                                                             x_train,\n",
        "                                                             test_size=0.1,\n",
        "                                                             random_state=13)"
      ]
    },
    {
      "cell_type": "code",
      "execution_count": 26,
      "metadata": {
        "id": "-ePz_azgz83S"
      },
      "outputs": [],
      "source": [
        "# Basic autoenc params\n",
        "batch_size = 64\n",
        "epochs = 200\n",
        "inChannel = 1\n",
        "x, y = 28, 28\n",
        "input_img = Input(shape = (x, y, inChannel))\n",
        "num_classes = 10"
      ]
    },
    {
      "cell_type": "code",
      "execution_count": 27,
      "metadata": {
        "id": "L30v3zz8z9Sh"
      },
      "outputs": [],
      "source": [
        "# Enc/Dec functions, we will only use the enc part for later\n",
        "def encoder(input_img):\n",
        "    #encoder\n",
        "    #input = 28 x 28 x 1 (wide and thin)\n",
        "    conv1 = Conv2D(32, (3, 3), activation='relu', padding='same')(input_img) #28 x 28 x 32\n",
        "    conv1 = BatchNormalization()(conv1)\n",
        "    conv1 = Conv2D(32, (3, 3), activation='relu', padding='same')(conv1)\n",
        "    conv1 = BatchNormalization()(conv1)\n",
        "    pool1 = MaxPooling2D(pool_size=(2, 2))(conv1) #14 x 14 x 32\n",
        "    conv2 = Conv2D(64, (3, 3), activation='relu', padding='same')(pool1) #14 x 14 x 64\n",
        "    conv2 = BatchNormalization()(conv2)\n",
        "    conv2 = Conv2D(64, (3, 3), activation='relu', padding='same')(conv2)\n",
        "    conv2 = BatchNormalization()(conv2)\n",
        "    pool2 = MaxPooling2D(pool_size=(2, 2))(conv2) #7 x 7 x 64\n",
        "    conv3 = Conv2D(128, (3, 3), activation='relu', padding='same')(pool2) #7 x 7 x 128 (small and thick)\n",
        "    conv3 = BatchNormalization()(conv3)\n",
        "    conv3 = Conv2D(128, (3, 3), activation='relu', padding='same')(conv3)\n",
        "    conv3 = BatchNormalization()(conv3)\n",
        "    conv4 = Conv2D(256, (3, 3), activation='relu', padding='same')(conv3) #7 x 7 x 256 (small and thick)\n",
        "    conv4 = BatchNormalization()(conv4)\n",
        "    conv4 = Conv2D(256, (3, 3), activation='relu', padding='same')(conv4)\n",
        "    conv4 = BatchNormalization()(conv4)\n",
        "    return conv4\n",
        "\n",
        "def decoder(conv4):    \n",
        "    #decoder\n",
        "    conv5 = Conv2D(128, (3, 3), activation='relu', padding='same')(conv4) #7 x 7 x 128\n",
        "    conv5 = BatchNormalization()(conv5)\n",
        "    conv5 = Conv2D(128, (3, 3), activation='relu', padding='same')(conv5)\n",
        "    conv5 = BatchNormalization()(conv5)\n",
        "    conv6 = Conv2D(64, (3, 3), activation='relu', padding='same')(conv5) #7 x 7 x 64\n",
        "    conv6 = BatchNormalization()(conv6)\n",
        "    conv6 = Conv2D(64, (3, 3), activation='relu', padding='same')(conv6)\n",
        "    conv6 = BatchNormalization()(conv6)\n",
        "    up1 = UpSampling2D((2,2))(conv6) #14 x 14 x 64\n",
        "    conv7 = Conv2D(32, (3, 3), activation='relu', padding='same')(up1) # 14 x 14 x 32\n",
        "    conv7 = BatchNormalization()(conv7)\n",
        "    conv7 = Conv2D(32, (3, 3), activation='relu', padding='same')(conv7)\n",
        "    conv7 = BatchNormalization()(conv7)\n",
        "    up2 = UpSampling2D((2,2))(conv7) # 28 x 28 x 32\n",
        "    decoded = Conv2D(1, (3, 3), activation='sigmoid', padding='same')(up2) # 28 x 28 x 1\n",
        "    return decoded"
      ]
    },
    {
      "cell_type": "code",
      "execution_count": 28,
      "metadata": {
        "colab": {
          "base_uri": "https://localhost:8080/"
        },
        "id": "jMoYj4Bn0BUC",
        "outputId": "a62662eb-f6f0-4212-8169-88fc79ab36b7"
      },
      "outputs": [
        {
          "output_type": "stream",
          "name": "stdout",
          "text": [
            "Model: \"model_1\"\n",
            "_________________________________________________________________\n",
            " Layer (type)                Output Shape              Param #   \n",
            "=================================================================\n",
            " input_2 (InputLayer)        [(None, 28, 28, 1)]       0         \n",
            "                                                                 \n",
            " conv2d_19 (Conv2D)          (None, 28, 28, 32)        320       \n",
            "                                                                 \n",
            " batch_normalization_18 (Bat  (None, 28, 28, 32)       128       \n",
            " chNormalization)                                                \n",
            "                                                                 \n",
            " conv2d_20 (Conv2D)          (None, 28, 28, 32)        9248      \n",
            "                                                                 \n",
            " batch_normalization_19 (Bat  (None, 28, 28, 32)       128       \n",
            " chNormalization)                                                \n",
            "                                                                 \n",
            " max_pooling2d_2 (MaxPooling  (None, 14, 14, 32)       0         \n",
            " 2D)                                                             \n",
            "                                                                 \n",
            " conv2d_21 (Conv2D)          (None, 14, 14, 64)        18496     \n",
            "                                                                 \n",
            " batch_normalization_20 (Bat  (None, 14, 14, 64)       256       \n",
            " chNormalization)                                                \n",
            "                                                                 \n",
            " conv2d_22 (Conv2D)          (None, 14, 14, 64)        36928     \n",
            "                                                                 \n",
            " batch_normalization_21 (Bat  (None, 14, 14, 64)       256       \n",
            " chNormalization)                                                \n",
            "                                                                 \n",
            " max_pooling2d_3 (MaxPooling  (None, 7, 7, 64)         0         \n",
            " 2D)                                                             \n",
            "                                                                 \n",
            " conv2d_23 (Conv2D)          (None, 7, 7, 128)         73856     \n",
            "                                                                 \n",
            " batch_normalization_22 (Bat  (None, 7, 7, 128)        512       \n",
            " chNormalization)                                                \n",
            "                                                                 \n",
            " conv2d_24 (Conv2D)          (None, 7, 7, 128)         147584    \n",
            "                                                                 \n",
            " batch_normalization_23 (Bat  (None, 7, 7, 128)        512       \n",
            " chNormalization)                                                \n",
            "                                                                 \n",
            " conv2d_25 (Conv2D)          (None, 7, 7, 256)         295168    \n",
            "                                                                 \n",
            " batch_normalization_24 (Bat  (None, 7, 7, 256)        1024      \n",
            " chNormalization)                                                \n",
            "                                                                 \n",
            " conv2d_26 (Conv2D)          (None, 7, 7, 256)         590080    \n",
            "                                                                 \n",
            " batch_normalization_25 (Bat  (None, 7, 7, 256)        1024      \n",
            " chNormalization)                                                \n",
            "                                                                 \n",
            " conv2d_27 (Conv2D)          (None, 7, 7, 128)         295040    \n",
            "                                                                 \n",
            " batch_normalization_26 (Bat  (None, 7, 7, 128)        512       \n",
            " chNormalization)                                                \n",
            "                                                                 \n",
            " conv2d_28 (Conv2D)          (None, 7, 7, 128)         147584    \n",
            "                                                                 \n",
            " batch_normalization_27 (Bat  (None, 7, 7, 128)        512       \n",
            " chNormalization)                                                \n",
            "                                                                 \n",
            " conv2d_29 (Conv2D)          (None, 7, 7, 64)          73792     \n",
            "                                                                 \n",
            " batch_normalization_28 (Bat  (None, 7, 7, 64)         256       \n",
            " chNormalization)                                                \n",
            "                                                                 \n",
            " conv2d_30 (Conv2D)          (None, 7, 7, 64)          36928     \n",
            "                                                                 \n",
            " batch_normalization_29 (Bat  (None, 7, 7, 64)         256       \n",
            " chNormalization)                                                \n",
            "                                                                 \n",
            " up_sampling2d_2 (UpSampling  (None, 14, 14, 64)       0         \n",
            " 2D)                                                             \n",
            "                                                                 \n",
            " conv2d_31 (Conv2D)          (None, 14, 14, 32)        18464     \n",
            "                                                                 \n",
            " batch_normalization_30 (Bat  (None, 14, 14, 32)       128       \n",
            " chNormalization)                                                \n",
            "                                                                 \n",
            " conv2d_32 (Conv2D)          (None, 14, 14, 32)        9248      \n",
            "                                                                 \n",
            " batch_normalization_31 (Bat  (None, 14, 14, 32)       128       \n",
            " chNormalization)                                                \n",
            "                                                                 \n",
            " up_sampling2d_3 (UpSampling  (None, 28, 28, 32)       0         \n",
            " 2D)                                                             \n",
            "                                                                 \n",
            " conv2d_33 (Conv2D)          (None, 28, 28, 1)         289       \n",
            "                                                                 \n",
            "=================================================================\n",
            "Total params: 1,758,657\n",
            "Trainable params: 1,755,841\n",
            "Non-trainable params: 2,816\n",
            "_________________________________________________________________\n"
          ]
        }
      ],
      "source": [
        "# Train the autoenc\n",
        "autoencoder = Model(input_img, decoder(encoder(input_img)))\n",
        "autoencoder.compile(loss='mean_squared_error', optimizer = Adam())\n",
        "autoencoder.summary()"
      ]
    },
    {
      "cell_type": "code",
      "execution_count": 29,
      "metadata": {
        "colab": {
          "base_uri": "https://localhost:8080/"
        },
        "id": "uutvTNpE0DO2",
        "outputId": "b76286f6-56a5-4a4a-98f2-c0665de19794"
      },
      "outputs": [
        {
          "output_type": "stream",
          "name": "stdout",
          "text": [
            "Epoch 1/200\n",
            "844/844 [==============================] - 16s 17ms/step - loss: 0.0140 - val_loss: 0.0081\n",
            "Epoch 2/200\n",
            "844/844 [==============================] - 14s 16ms/step - loss: 0.0077 - val_loss: 0.2581\n",
            "Epoch 3/200\n",
            "844/844 [==============================] - 13s 16ms/step - loss: 0.0073 - val_loss: 0.0077\n",
            "Epoch 4/200\n",
            "844/844 [==============================] - 13s 16ms/step - loss: 0.0054 - val_loss: 0.0051\n",
            "Epoch 5/200\n",
            "844/844 [==============================] - 13s 16ms/step - loss: 0.0048 - val_loss: 0.0042\n",
            "Epoch 6/200\n",
            "844/844 [==============================] - 13s 16ms/step - loss: 0.0043 - val_loss: 0.0044\n",
            "Epoch 7/200\n",
            "844/844 [==============================] - 13s 16ms/step - loss: 0.0042 - val_loss: 0.0039\n",
            "Epoch 8/200\n",
            "844/844 [==============================] - 13s 16ms/step - loss: 0.0037 - val_loss: 0.0072\n",
            "Epoch 9/200\n",
            "844/844 [==============================] - 13s 16ms/step - loss: 0.0035 - val_loss: 0.0034\n",
            "Epoch 10/200\n",
            "844/844 [==============================] - 15s 17ms/step - loss: 0.0035 - val_loss: 0.0053\n",
            "Epoch 11/200\n",
            "844/844 [==============================] - 13s 16ms/step - loss: 0.0032 - val_loss: 0.0031\n",
            "Epoch 12/200\n",
            "844/844 [==============================] - 13s 16ms/step - loss: 0.0029 - val_loss: 0.0031\n",
            "Epoch 13/200\n",
            "844/844 [==============================] - 13s 16ms/step - loss: 0.0027 - val_loss: 0.0105\n",
            "Epoch 14/200\n",
            "844/844 [==============================] - 14s 16ms/step - loss: 0.0029 - val_loss: 0.0050\n",
            "Epoch 15/200\n",
            "844/844 [==============================] - 14s 16ms/step - loss: 0.0033 - val_loss: 0.0040\n",
            "Epoch 16/200\n",
            "844/844 [==============================] - 13s 16ms/step - loss: 0.0029 - val_loss: 0.0034\n",
            "Epoch 17/200\n",
            "844/844 [==============================] - 14s 16ms/step - loss: 0.0025 - val_loss: 0.0052\n",
            "Epoch 18/200\n",
            "844/844 [==============================] - 14s 16ms/step - loss: 0.0024 - val_loss: 0.0040\n",
            "Epoch 19/200\n",
            "844/844 [==============================] - 14s 16ms/step - loss: 0.0028 - val_loss: 0.0026\n",
            "Epoch 20/200\n",
            "844/844 [==============================] - 14s 16ms/step - loss: 0.0025 - val_loss: 0.0023\n",
            "Epoch 21/200\n",
            "844/844 [==============================] - 14s 16ms/step - loss: 0.0023 - val_loss: 0.0023\n",
            "Epoch 22/200\n",
            "844/844 [==============================] - 14s 16ms/step - loss: 0.0022 - val_loss: 0.0149\n",
            "Epoch 23/200\n",
            "844/844 [==============================] - 14s 16ms/step - loss: 0.0021 - val_loss: 0.0021\n",
            "Epoch 24/200\n",
            "844/844 [==============================] - 14s 16ms/step - loss: 0.0021 - val_loss: 0.0026\n",
            "Epoch 25/200\n",
            "844/844 [==============================] - 14s 16ms/step - loss: 0.0020 - val_loss: 0.0021\n",
            "Epoch 26/200\n",
            "844/844 [==============================] - 14s 16ms/step - loss: 0.0021 - val_loss: 0.0024\n",
            "Epoch 27/200\n",
            "844/844 [==============================] - 14s 16ms/step - loss: 0.0019 - val_loss: 0.0021\n",
            "Epoch 28/200\n",
            "844/844 [==============================] - 14s 16ms/step - loss: 0.0020 - val_loss: 0.0020\n",
            "Epoch 29/200\n",
            "844/844 [==============================] - 14s 16ms/step - loss: 0.0019 - val_loss: 0.0024\n",
            "Epoch 30/200\n",
            "844/844 [==============================] - 14s 16ms/step - loss: 0.0018 - val_loss: 0.0021\n",
            "Epoch 31/200\n",
            "844/844 [==============================] - 14s 16ms/step - loss: 0.0019 - val_loss: 0.0129\n",
            "Epoch 32/200\n",
            "844/844 [==============================] - 14s 16ms/step - loss: 0.0019 - val_loss: 0.0039\n",
            "Epoch 33/200\n",
            "844/844 [==============================] - 14s 16ms/step - loss: 0.0017 - val_loss: 0.0021\n",
            "Epoch 34/200\n",
            "844/844 [==============================] - 14s 16ms/step - loss: 0.0017 - val_loss: 0.0017\n",
            "Epoch 35/200\n",
            "844/844 [==============================] - 14s 16ms/step - loss: 0.0017 - val_loss: 0.0017\n",
            "Epoch 36/200\n",
            "844/844 [==============================] - 14s 16ms/step - loss: 0.0016 - val_loss: 0.0017\n",
            "Epoch 37/200\n",
            "844/844 [==============================] - 14s 16ms/step - loss: 0.0016 - val_loss: 0.0017\n",
            "Epoch 38/200\n",
            "844/844 [==============================] - 14s 16ms/step - loss: 0.0016 - val_loss: 0.0017\n",
            "Epoch 39/200\n",
            "844/844 [==============================] - 14s 16ms/step - loss: 0.0016 - val_loss: 0.0028\n",
            "Epoch 40/200\n",
            "844/844 [==============================] - 14s 16ms/step - loss: 0.0016 - val_loss: 0.0016\n",
            "Epoch 41/200\n",
            "844/844 [==============================] - 14s 16ms/step - loss: 0.0015 - val_loss: 0.0030\n",
            "Epoch 42/200\n",
            "844/844 [==============================] - 14s 16ms/step - loss: 0.0015 - val_loss: 0.0023\n",
            "Epoch 43/200\n",
            "844/844 [==============================] - 14s 16ms/step - loss: 0.0015 - val_loss: 0.0026\n",
            "Epoch 44/200\n",
            "844/844 [==============================] - 14s 16ms/step - loss: 0.0015 - val_loss: 0.0016\n",
            "Epoch 45/200\n",
            "844/844 [==============================] - 14s 16ms/step - loss: 0.0014 - val_loss: 0.0020\n",
            "Epoch 46/200\n",
            "844/844 [==============================] - 14s 16ms/step - loss: 0.0014 - val_loss: 0.0019\n",
            "Epoch 47/200\n",
            "844/844 [==============================] - 14s 16ms/step - loss: 0.0014 - val_loss: 0.0015\n",
            "Epoch 48/200\n",
            "844/844 [==============================] - 14s 16ms/step - loss: 0.0014 - val_loss: 0.0016\n",
            "Epoch 49/200\n",
            "844/844 [==============================] - 14s 16ms/step - loss: 0.0013 - val_loss: 0.0016\n",
            "Epoch 50/200\n",
            "844/844 [==============================] - 14s 16ms/step - loss: 0.0013 - val_loss: 0.0016\n",
            "Epoch 51/200\n",
            "844/844 [==============================] - 14s 16ms/step - loss: 0.0013 - val_loss: 0.0013\n",
            "Epoch 52/200\n",
            "844/844 [==============================] - 14s 16ms/step - loss: 0.0013 - val_loss: 0.0013\n",
            "Epoch 53/200\n",
            "844/844 [==============================] - 14s 16ms/step - loss: 0.0013 - val_loss: 0.0013\n",
            "Epoch 54/200\n",
            "844/844 [==============================] - 14s 16ms/step - loss: 0.0012 - val_loss: 0.0014\n",
            "Epoch 55/200\n",
            "844/844 [==============================] - 14s 16ms/step - loss: 0.0012 - val_loss: 0.0014\n",
            "Epoch 56/200\n",
            "844/844 [==============================] - 14s 16ms/step - loss: 0.0012 - val_loss: 0.0015\n",
            "Epoch 57/200\n",
            "844/844 [==============================] - 14s 16ms/step - loss: 0.0012 - val_loss: 0.0013\n",
            "Epoch 58/200\n",
            "844/844 [==============================] - 14s 16ms/step - loss: 0.0012 - val_loss: 0.0013\n",
            "Epoch 59/200\n",
            "844/844 [==============================] - 14s 16ms/step - loss: 0.0012 - val_loss: 0.0012\n",
            "Epoch 60/200\n",
            "844/844 [==============================] - 14s 16ms/step - loss: 0.0012 - val_loss: 0.0012\n",
            "Epoch 61/200\n",
            "844/844 [==============================] - 14s 16ms/step - loss: 0.0011 - val_loss: 0.0011\n",
            "Epoch 62/200\n",
            "844/844 [==============================] - 14s 16ms/step - loss: 0.0011 - val_loss: 0.0012\n",
            "Epoch 63/200\n",
            "844/844 [==============================] - 14s 16ms/step - loss: 0.0011 - val_loss: 0.0012\n",
            "Epoch 64/200\n",
            "844/844 [==============================] - 14s 16ms/step - loss: 0.0011 - val_loss: 0.0011\n",
            "Epoch 65/200\n",
            "844/844 [==============================] - 14s 16ms/step - loss: 0.0011 - val_loss: 0.0011\n",
            "Epoch 66/200\n",
            "844/844 [==============================] - 14s 16ms/step - loss: 0.0011 - val_loss: 0.0012\n",
            "Epoch 67/200\n",
            "844/844 [==============================] - 14s 16ms/step - loss: 0.0011 - val_loss: 0.0011\n",
            "Epoch 68/200\n",
            "844/844 [==============================] - 14s 16ms/step - loss: 0.0011 - val_loss: 0.0011\n",
            "Epoch 69/200\n",
            "844/844 [==============================] - 14s 16ms/step - loss: 0.0010 - val_loss: 0.0013\n",
            "Epoch 70/200\n",
            "844/844 [==============================] - 14s 16ms/step - loss: 0.0010 - val_loss: 0.0011\n",
            "Epoch 71/200\n",
            "844/844 [==============================] - 14s 16ms/step - loss: 0.0010 - val_loss: 0.0011\n",
            "Epoch 72/200\n",
            "844/844 [==============================] - 14s 16ms/step - loss: 0.0010 - val_loss: 0.0014\n",
            "Epoch 73/200\n",
            "844/844 [==============================] - 14s 16ms/step - loss: 0.0010 - val_loss: 0.0012\n",
            "Epoch 74/200\n",
            "844/844 [==============================] - 14s 16ms/step - loss: 0.0010 - val_loss: 0.0011\n",
            "Epoch 75/200\n",
            "844/844 [==============================] - 14s 16ms/step - loss: 9.9534e-04 - val_loss: 0.0010\n",
            "Epoch 76/200\n",
            "844/844 [==============================] - 14s 16ms/step - loss: 9.9988e-04 - val_loss: 0.0011\n",
            "Epoch 77/200\n",
            "844/844 [==============================] - 14s 16ms/step - loss: 9.6531e-04 - val_loss: 0.0010\n",
            "Epoch 78/200\n",
            "844/844 [==============================] - 14s 16ms/step - loss: 9.7201e-04 - val_loss: 0.0010\n",
            "Epoch 79/200\n",
            "844/844 [==============================] - 14s 16ms/step - loss: 9.6355e-04 - val_loss: 0.0011\n",
            "Epoch 80/200\n",
            "844/844 [==============================] - 14s 16ms/step - loss: 9.4471e-04 - val_loss: 9.9254e-04\n",
            "Epoch 81/200\n",
            "844/844 [==============================] - 14s 16ms/step - loss: 9.4633e-04 - val_loss: 0.0013\n",
            "Epoch 82/200\n",
            "844/844 [==============================] - 14s 16ms/step - loss: 9.3869e-04 - val_loss: 0.0010\n",
            "Epoch 83/200\n",
            "844/844 [==============================] - 14s 16ms/step - loss: 9.2500e-04 - val_loss: 0.0011\n",
            "Epoch 84/200\n",
            "844/844 [==============================] - 14s 16ms/step - loss: 9.2290e-04 - val_loss: 0.0012\n",
            "Epoch 85/200\n",
            "844/844 [==============================] - 14s 16ms/step - loss: 9.1423e-04 - val_loss: 0.0010\n",
            "Epoch 86/200\n",
            "844/844 [==============================] - 14s 16ms/step - loss: 9.0196e-04 - val_loss: 0.0013\n",
            "Epoch 87/200\n",
            "844/844 [==============================] - 14s 16ms/step - loss: 8.9369e-04 - val_loss: 9.5209e-04\n",
            "Epoch 88/200\n",
            "844/844 [==============================] - 14s 16ms/step - loss: 8.9435e-04 - val_loss: 0.0010\n",
            "Epoch 89/200\n",
            "844/844 [==============================] - 14s 16ms/step - loss: 8.8953e-04 - val_loss: 0.0011\n",
            "Epoch 90/200\n",
            "844/844 [==============================] - 14s 16ms/step - loss: 8.7709e-04 - val_loss: 0.0010\n",
            "Epoch 91/200\n",
            "844/844 [==============================] - 14s 16ms/step - loss: 8.7532e-04 - val_loss: 9.9273e-04\n",
            "Epoch 92/200\n",
            "844/844 [==============================] - 14s 16ms/step - loss: 8.7314e-04 - val_loss: 9.7368e-04\n",
            "Epoch 93/200\n",
            "844/844 [==============================] - 14s 16ms/step - loss: 8.5696e-04 - val_loss: 9.7785e-04\n",
            "Epoch 94/200\n",
            "844/844 [==============================] - 14s 16ms/step - loss: 8.5477e-04 - val_loss: 0.0012\n",
            "Epoch 95/200\n",
            "844/844 [==============================] - 14s 17ms/step - loss: 8.5153e-04 - val_loss: 9.7670e-04\n",
            "Epoch 96/200\n",
            "844/844 [==============================] - 14s 16ms/step - loss: 8.4765e-04 - val_loss: 9.9424e-04\n",
            "Epoch 97/200\n",
            "844/844 [==============================] - 14s 16ms/step - loss: 8.3758e-04 - val_loss: 9.7307e-04\n",
            "Epoch 98/200\n",
            "844/844 [==============================] - 14s 16ms/step - loss: 8.2679e-04 - val_loss: 0.0011\n",
            "Epoch 99/200\n",
            "844/844 [==============================] - 14s 16ms/step - loss: 8.2278e-04 - val_loss: 9.6838e-04\n",
            "Epoch 100/200\n",
            "844/844 [==============================] - 14s 16ms/step - loss: 8.2076e-04 - val_loss: 0.0011\n",
            "Epoch 101/200\n",
            "844/844 [==============================] - 14s 16ms/step - loss: 8.2363e-04 - val_loss: 9.8470e-04\n",
            "Epoch 102/200\n",
            "844/844 [==============================] - 14s 16ms/step - loss: 8.0902e-04 - val_loss: 9.5315e-04\n",
            "Epoch 103/200\n",
            "844/844 [==============================] - 14s 16ms/step - loss: 8.0141e-04 - val_loss: 9.8241e-04\n",
            "Epoch 104/200\n",
            "844/844 [==============================] - 14s 16ms/step - loss: 8.1826e-04 - val_loss: 0.0010\n",
            "Epoch 105/200\n",
            "844/844 [==============================] - 14s 16ms/step - loss: 7.8994e-04 - val_loss: 9.8022e-04\n",
            "Epoch 106/200\n",
            "844/844 [==============================] - 14s 16ms/step - loss: 7.9541e-04 - val_loss: 0.0010\n",
            "Epoch 107/200\n",
            "844/844 [==============================] - 14s 16ms/step - loss: 7.8520e-04 - val_loss: 0.0010\n",
            "Epoch 108/200\n",
            "844/844 [==============================] - 14s 16ms/step - loss: 7.8644e-04 - val_loss: 9.4091e-04\n",
            "Epoch 109/200\n",
            "844/844 [==============================] - 14s 16ms/step - loss: 7.7747e-04 - val_loss: 9.3809e-04\n",
            "Epoch 110/200\n",
            "844/844 [==============================] - 14s 16ms/step - loss: 7.7670e-04 - val_loss: 9.7004e-04\n",
            "Epoch 111/200\n",
            "844/844 [==============================] - 14s 16ms/step - loss: 7.6922e-04 - val_loss: 0.0013\n",
            "Epoch 112/200\n",
            "844/844 [==============================] - 14s 16ms/step - loss: 7.6088e-04 - val_loss: 0.0011\n",
            "Epoch 113/200\n",
            "844/844 [==============================] - 14s 16ms/step - loss: 7.6111e-04 - val_loss: 8.7135e-04\n",
            "Epoch 114/200\n",
            "844/844 [==============================] - 14s 16ms/step - loss: 7.5811e-04 - val_loss: 8.7544e-04\n",
            "Epoch 115/200\n",
            "844/844 [==============================] - 14s 16ms/step - loss: 7.4964e-04 - val_loss: 8.4972e-04\n",
            "Epoch 116/200\n",
            "844/844 [==============================] - 14s 16ms/step - loss: 7.5360e-04 - val_loss: 9.3874e-04\n",
            "Epoch 117/200\n",
            "844/844 [==============================] - 14s 17ms/step - loss: 7.3961e-04 - val_loss: 8.3722e-04\n",
            "Epoch 118/200\n",
            "844/844 [==============================] - 14s 16ms/step - loss: 7.5890e-04 - val_loss: 8.4951e-04\n",
            "Epoch 119/200\n",
            "844/844 [==============================] - 14s 16ms/step - loss: 7.3136e-04 - val_loss: 0.0012\n",
            "Epoch 120/200\n",
            "844/844 [==============================] - 14s 16ms/step - loss: 7.3737e-04 - val_loss: 8.4276e-04\n",
            "Epoch 121/200\n",
            "844/844 [==============================] - 14s 16ms/step - loss: 7.3200e-04 - val_loss: 8.1856e-04\n",
            "Epoch 122/200\n",
            "844/844 [==============================] - 14s 16ms/step - loss: 7.2797e-04 - val_loss: 8.8445e-04\n",
            "Epoch 123/200\n",
            "844/844 [==============================] - 14s 16ms/step - loss: 7.2458e-04 - val_loss: 8.6534e-04\n",
            "Epoch 124/200\n",
            "844/844 [==============================] - 14s 16ms/step - loss: 7.1361e-04 - val_loss: 8.2675e-04\n",
            "Epoch 125/200\n",
            "844/844 [==============================] - 14s 16ms/step - loss: 7.1496e-04 - val_loss: 8.3473e-04\n",
            "Epoch 126/200\n",
            "844/844 [==============================] - 14s 16ms/step - loss: 7.0790e-04 - val_loss: 8.1946e-04\n",
            "Epoch 127/200\n",
            "844/844 [==============================] - 14s 16ms/step - loss: 7.0902e-04 - val_loss: 8.4409e-04\n",
            "Epoch 128/200\n",
            "844/844 [==============================] - 14s 16ms/step - loss: 7.0727e-04 - val_loss: 8.7550e-04\n",
            "Epoch 129/200\n",
            "844/844 [==============================] - 14s 16ms/step - loss: 6.9762e-04 - val_loss: 8.3043e-04\n",
            "Epoch 130/200\n",
            "844/844 [==============================] - 14s 16ms/step - loss: 6.9856e-04 - val_loss: 8.6210e-04\n",
            "Epoch 131/200\n",
            "844/844 [==============================] - 14s 16ms/step - loss: 7.0120e-04 - val_loss: 9.4099e-04\n",
            "Epoch 132/200\n",
            "844/844 [==============================] - 14s 16ms/step - loss: 6.9562e-04 - val_loss: 8.6757e-04\n",
            "Epoch 133/200\n",
            "844/844 [==============================] - 14s 16ms/step - loss: 6.9253e-04 - val_loss: 9.2609e-04\n",
            "Epoch 134/200\n",
            "844/844 [==============================] - 14s 16ms/step - loss: 6.7867e-04 - val_loss: 7.8468e-04\n",
            "Epoch 135/200\n",
            "844/844 [==============================] - 14s 16ms/step - loss: 6.8706e-04 - val_loss: 8.0567e-04\n",
            "Epoch 136/200\n",
            "844/844 [==============================] - 14s 16ms/step - loss: 6.8035e-04 - val_loss: 8.2062e-04\n",
            "Epoch 137/200\n",
            "844/844 [==============================] - 14s 16ms/step - loss: 6.9103e-04 - val_loss: 8.9742e-04\n",
            "Epoch 138/200\n",
            "844/844 [==============================] - 14s 16ms/step - loss: 6.7057e-04 - val_loss: 8.3351e-04\n",
            "Epoch 139/200\n",
            "844/844 [==============================] - 14s 16ms/step - loss: 6.7479e-04 - val_loss: 8.3137e-04\n",
            "Epoch 140/200\n",
            "844/844 [==============================] - 14s 16ms/step - loss: 6.7048e-04 - val_loss: 8.5052e-04\n",
            "Epoch 141/200\n",
            "844/844 [==============================] - 14s 16ms/step - loss: 6.7004e-04 - val_loss: 8.8492e-04\n",
            "Epoch 142/200\n",
            "844/844 [==============================] - 14s 16ms/step - loss: 6.6309e-04 - val_loss: 8.0149e-04\n",
            "Epoch 143/200\n",
            "844/844 [==============================] - 14s 16ms/step - loss: 6.5770e-04 - val_loss: 9.5664e-04\n",
            "Epoch 144/200\n",
            "844/844 [==============================] - 14s 16ms/step - loss: 6.6513e-04 - val_loss: 8.5227e-04\n",
            "Epoch 145/200\n",
            "844/844 [==============================] - 14s 16ms/step - loss: 6.5827e-04 - val_loss: 7.8632e-04\n",
            "Epoch 146/200\n",
            "844/844 [==============================] - 14s 16ms/step - loss: 6.5657e-04 - val_loss: 8.0535e-04\n",
            "Epoch 147/200\n",
            "844/844 [==============================] - 14s 16ms/step - loss: 6.5049e-04 - val_loss: 8.7479e-04\n",
            "Epoch 148/200\n",
            "844/844 [==============================] - 14s 16ms/step - loss: 6.5156e-04 - val_loss: 8.4899e-04\n",
            "Epoch 149/200\n",
            "844/844 [==============================] - 14s 16ms/step - loss: 6.4974e-04 - val_loss: 8.2272e-04\n",
            "Epoch 150/200\n",
            "844/844 [==============================] - 14s 16ms/step - loss: 6.4686e-04 - val_loss: 8.8287e-04\n",
            "Epoch 151/200\n",
            "844/844 [==============================] - 14s 16ms/step - loss: 6.4252e-04 - val_loss: 7.9244e-04\n",
            "Epoch 152/200\n",
            "844/844 [==============================] - 14s 16ms/step - loss: 6.3433e-04 - val_loss: 8.3548e-04\n",
            "Epoch 153/200\n",
            "844/844 [==============================] - 14s 16ms/step - loss: 6.4373e-04 - val_loss: 8.2982e-04\n",
            "Epoch 154/200\n",
            "844/844 [==============================] - 14s 16ms/step - loss: 6.3373e-04 - val_loss: 7.8932e-04\n",
            "Epoch 155/200\n",
            "844/844 [==============================] - 14s 16ms/step - loss: 6.3489e-04 - val_loss: 7.7634e-04\n",
            "Epoch 156/200\n",
            "844/844 [==============================] - 14s 16ms/step - loss: 6.2861e-04 - val_loss: 7.6338e-04\n",
            "Epoch 157/200\n",
            "844/844 [==============================] - 14s 16ms/step - loss: 6.3130e-04 - val_loss: 8.3835e-04\n",
            "Epoch 158/200\n",
            "844/844 [==============================] - 14s 16ms/step - loss: 6.2358e-04 - val_loss: 8.7569e-04\n",
            "Epoch 159/200\n",
            "844/844 [==============================] - 14s 17ms/step - loss: 6.2642e-04 - val_loss: 9.3619e-04\n",
            "Epoch 160/200\n",
            "844/844 [==============================] - 14s 16ms/step - loss: 6.2433e-04 - val_loss: 7.8583e-04\n",
            "Epoch 161/200\n",
            "844/844 [==============================] - 14s 16ms/step - loss: 6.1442e-04 - val_loss: 7.8776e-04\n",
            "Epoch 162/200\n",
            "844/844 [==============================] - 14s 16ms/step - loss: 6.2243e-04 - val_loss: 7.8620e-04\n",
            "Epoch 163/200\n",
            "844/844 [==============================] - 14s 16ms/step - loss: 6.1508e-04 - val_loss: 8.0440e-04\n",
            "Epoch 164/200\n",
            "844/844 [==============================] - 14s 16ms/step - loss: 9.4340e-04 - val_loss: 8.3366e-04\n",
            "Epoch 165/200\n",
            "844/844 [==============================] - 14s 16ms/step - loss: 6.6975e-04 - val_loss: 7.2957e-04\n",
            "Epoch 166/200\n",
            "844/844 [==============================] - 14s 16ms/step - loss: 6.3222e-04 - val_loss: 7.4470e-04\n",
            "Epoch 167/200\n",
            "844/844 [==============================] - 14s 16ms/step - loss: 6.1488e-04 - val_loss: 8.0994e-04\n",
            "Epoch 168/200\n",
            "844/844 [==============================] - 14s 16ms/step - loss: 6.2062e-04 - val_loss: 7.2069e-04\n",
            "Epoch 169/200\n",
            "844/844 [==============================] - 14s 16ms/step - loss: 6.0754e-04 - val_loss: 7.1237e-04\n",
            "Epoch 170/200\n",
            "844/844 [==============================] - 14s 16ms/step - loss: 6.0312e-04 - val_loss: 6.9523e-04\n",
            "Epoch 171/200\n",
            "844/844 [==============================] - 14s 16ms/step - loss: 6.1374e-04 - val_loss: 6.8967e-04\n",
            "Epoch 172/200\n",
            "844/844 [==============================] - 14s 16ms/step - loss: 5.9898e-04 - val_loss: 6.8289e-04\n",
            "Epoch 173/200\n",
            "844/844 [==============================] - 14s 16ms/step - loss: 5.9513e-04 - val_loss: 7.0182e-04\n",
            "Epoch 174/200\n",
            "844/844 [==============================] - 14s 16ms/step - loss: 6.0032e-04 - val_loss: 6.9260e-04\n",
            "Epoch 175/200\n",
            "844/844 [==============================] - 14s 16ms/step - loss: 6.0399e-04 - val_loss: 8.0595e-04\n",
            "Epoch 176/200\n",
            "844/844 [==============================] - 14s 16ms/step - loss: 5.9214e-04 - val_loss: 6.8642e-04\n",
            "Epoch 177/200\n",
            "844/844 [==============================] - 14s 16ms/step - loss: 5.8870e-04 - val_loss: 7.2392e-04\n",
            "Epoch 178/200\n",
            "844/844 [==============================] - 14s 16ms/step - loss: 5.9237e-04 - val_loss: 7.2660e-04\n",
            "Epoch 179/200\n",
            "844/844 [==============================] - 14s 16ms/step - loss: 5.8539e-04 - val_loss: 7.4228e-04\n",
            "Epoch 180/200\n",
            "844/844 [==============================] - 14s 16ms/step - loss: 5.8848e-04 - val_loss: 6.9516e-04\n",
            "Epoch 181/200\n",
            "844/844 [==============================] - 14s 16ms/step - loss: 5.8898e-04 - val_loss: 7.3359e-04\n",
            "Epoch 182/200\n",
            "844/844 [==============================] - 14s 16ms/step - loss: 5.8356e-04 - val_loss: 6.9393e-04\n",
            "Epoch 183/200\n",
            "844/844 [==============================] - 14s 16ms/step - loss: 5.7693e-04 - val_loss: 6.6876e-04\n",
            "Epoch 184/200\n",
            "844/844 [==============================] - 14s 16ms/step - loss: 5.8330e-04 - val_loss: 6.9455e-04\n",
            "Epoch 185/200\n",
            "844/844 [==============================] - 14s 16ms/step - loss: 5.7002e-04 - val_loss: 6.9000e-04\n",
            "Epoch 186/200\n",
            "844/844 [==============================] - 14s 16ms/step - loss: 5.7189e-04 - val_loss: 6.6909e-04\n",
            "Epoch 187/200\n",
            "844/844 [==============================] - 14s 16ms/step - loss: 5.7541e-04 - val_loss: 6.9472e-04\n",
            "Epoch 188/200\n",
            "844/844 [==============================] - 14s 16ms/step - loss: 5.7287e-04 - val_loss: 6.5916e-04\n",
            "Epoch 189/200\n",
            "844/844 [==============================] - 14s 16ms/step - loss: 5.6586e-04 - val_loss: 7.8826e-04\n",
            "Epoch 190/200\n",
            "844/844 [==============================] - 14s 16ms/step - loss: 5.6590e-04 - val_loss: 6.6056e-04\n",
            "Epoch 191/200\n",
            "844/844 [==============================] - 14s 16ms/step - loss: 5.6653e-04 - val_loss: 6.6175e-04\n",
            "Epoch 192/200\n",
            "844/844 [==============================] - 14s 16ms/step - loss: 5.6613e-04 - val_loss: 7.0211e-04\n",
            "Epoch 193/200\n",
            "844/844 [==============================] - 14s 16ms/step - loss: 5.5954e-04 - val_loss: 6.7046e-04\n",
            "Epoch 194/200\n",
            "844/844 [==============================] - 14s 16ms/step - loss: 5.5944e-04 - val_loss: 7.3410e-04\n",
            "Epoch 195/200\n",
            "844/844 [==============================] - 14s 17ms/step - loss: 5.6161e-04 - val_loss: 6.7844e-04\n",
            "Epoch 196/200\n",
            "844/844 [==============================] - 14s 16ms/step - loss: 5.5691e-04 - val_loss: 7.6346e-04\n",
            "Epoch 197/200\n",
            "844/844 [==============================] - 14s 16ms/step - loss: 5.5867e-04 - val_loss: 6.5881e-04\n",
            "Epoch 198/200\n",
            "844/844 [==============================] - 14s 16ms/step - loss: 5.5213e-04 - val_loss: 6.9541e-04\n",
            "Epoch 199/200\n",
            "844/844 [==============================] - 14s 16ms/step - loss: 5.5153e-04 - val_loss: 6.5966e-04\n",
            "Epoch 200/200\n",
            "844/844 [==============================] - 14s 16ms/step - loss: 5.4873e-04 - val_loss: 7.4344e-04\n"
          ]
        }
      ],
      "source": [
        "autoencoder_train = autoencoder.fit(train_X, train_ground, batch_size=batch_size,epochs=epochs,verbose=1,validation_data=(valid_X, valid_ground))"
      ]
    },
    {
      "cell_type": "markdown",
      "metadata": {
        "id": "XK7yhqghDhOZ"
      },
      "source": [
        "### Visualizing the training part. \n",
        "Looks good, no overfitting since both losses are going down.\n",
        "\n"
      ]
    },
    {
      "cell_type": "code",
      "execution_count": 30,
      "metadata": {
        "colab": {
          "base_uri": "https://localhost:8080/",
          "height": 298
        },
        "id": "zUSLRbI70N3Z",
        "outputId": "ca2a13b6-fbe5-41c6-e21f-aea1dad2ff23"
      },
      "outputs": [
        {
          "output_type": "execute_result",
          "data": {
            "text/plain": [
              "<function matplotlib.pyplot.show(*args, **kw)>"
            ]
          },
          "metadata": {},
          "execution_count": 30
        },
        {
          "output_type": "display_data",
          "data": {
            "text/plain": [
              "<Figure size 432x288 with 1 Axes>"
            ],
            "image/png": "[encoded data removed]"
          },
          "metadata": {
            "needs_background": "light"
          }
        }
      ],
      "source": [
        "loss = autoencoder_train.history['loss']\n",
        "val_loss = autoencoder_train.history['val_loss']\n",
        "epochs = range(200)\n",
        "plt.figure()\n",
        "plt.plot(epochs, loss, 'bo', label='Training loss')\n",
        "plt.plot(epochs, val_loss, 'b', label='Validation loss')\n",
        "plt.title('Training and validation loss')\n",
        "plt.legend()\n",
        "plt.show"
      ]
    },
    {
      "cell_type": "code",
      "execution_count": 31,
      "metadata": {
        "id": "5Y1fIk9w0efw"
      },
      "outputs": [],
      "source": [
        "autoencoder.save('./models/autoencoder.h5')"
      ]
    },
    {
      "cell_type": "markdown",
      "metadata": {
        "id": "OAWOjgqZD0Zd"
      },
      "source": [
        "## Training a classifer on top of the embeddings"
      ]
    },
    {
      "cell_type": "code",
      "execution_count": 32,
      "metadata": {
        "id": "Ha27Ef1PrzKl"
      },
      "outputs": [],
      "source": [
        "autoencoder = load_model('./models/autoencoder.h5')"
      ]
    },
    {
      "cell_type": "code",
      "execution_count": 33,
      "metadata": {
        "id": "r0LIjENfqpgn"
      },
      "outputs": [],
      "source": [
        "# OHE for labels (originally categorical)\n",
        "train_Y_one_hot = to_categorical(y_train)\n",
        "test_Y_one_hot = to_categorical(y_test)"
      ]
    },
    {
      "cell_type": "code",
      "execution_count": 192,
      "metadata": {
        "id": "DL7YdODVn0lf"
      },
      "outputs": [],
      "source": [
        "## Since we have to use minimum labeled samples from training, we do it this way:\n",
        "## we iterate using n (labeled) samples at a time, see how our model performs and minimize n.\n",
        "## note: in the autoenc above we used all samples but we did not use any labels ;)\n",
        "\n",
        "def fc(enco):\n",
        "    flat = Flatten()(enco)\n",
        "    den = Dense(64, activation='tanh')(flat)\n",
        "    out = Dense(num_classes, activation='softmax')(den)\n",
        "    return out\n",
        "\n",
        "def train_classifier(n):\n",
        "  \"\"\"\n",
        "  this fn defines the full model: encoder from autoencoder + simple classifier\n",
        "  creates a new 'full_model' classifier\n",
        "  the target is the class\n",
        "\n",
        "  Input: n=the number of samples to consider in training data \n",
        "  Returns: model\n",
        "  \"\"\"\n",
        "  assert n!=0\n",
        "\n",
        "  #we take a total of n samples: 0.2n in test -> 0.8n in train, shuffling is handled by train_test_split\n",
        "  train_X,valid_X,train_label,valid_label = train_test_split(x_train,train_Y_one_hot,train_size=int(0.99*n), test_size=int(0.01*n),random_state=7)\n",
        "  \n",
        "  print(np.shape(train_X), np.shape(valid_X)) #basic assert\n",
        "  \n",
        "  encode = encoder(input_img)\n",
        "  full_model = Model(input_img,fc(encode))\n",
        "\n",
        "  #set weights\n",
        "  for l1,l2 in zip(full_model.layers[:19],autoencoder.layers[0:19]):\n",
        "    l1.set_weights(l2.get_weights())\n",
        "\n",
        "  \n",
        "  for layer in full_model.layers[0:19]:\n",
        "    layer.trainable = True\n",
        "\n",
        "  #compile the model\n",
        "  #the only var here is the size of training data\n",
        "  full_model.compile(loss=categorical_crossentropy, optimizer=Adam() ,metrics=['accuracy'])\n",
        "  print(full_model.get_weights()[0][1])\n",
        "  print(autoencoder.get_weights()[0][1])\n",
        "  classify_train = full_model.fit(train_X, train_label, batch_size=100,epochs=60,verbose=1,validation_data=(valid_X, valid_label))\n",
        "  loss = classify_train.history['loss']\n",
        "  val_loss = classify_train.history['val_loss']\n",
        "  acc = classify_train.history['accuracy']\n",
        "  val_acc = classify_train.history['val_accuracy']\n",
        "  epochs = range(60)\n",
        "  plt.figure()\n",
        "  plt.ylim(0.5,1.2)\n",
        "  plt.plot(epochs, loss, 'bo', label='Training loss')\n",
        "  plt.plot(epochs, val_loss, 'go', label='Val loss')\n",
        "  plt.plot(epochs, acc, 'b', label='Training acc')\n",
        "  plt.plot(epochs, val_acc, 'g', label='Val acc')\n",
        "  plt.title('Training and validation loss')\n",
        "  plt.legend()\n",
        "  plt.show\n",
        "\n",
        "  full_model.save(f'./models/classification_complete_{n}.h5')\n",
        "  return full_model"
      ]
    },
    {
      "cell_type": "code",
      "execution_count": 193,
      "metadata": {
        "id": "2A7OoJYppYnV"
      },
      "outputs": [],
      "source": [
        "# from sklearn.metrics import accuracy_score\n",
        "def calculate_metrics(model):\n",
        "  \"\"\"\n",
        "  takes in the full_model, returns loss,acc\n",
        "  \"\"\"\n",
        "  \n",
        "  # note: we could also use the eval method to calculate accuracy:\n",
        "  # test_eval = model.evaluate(x_test, test_Y_one_hot, verbose=0)\n",
        "  # model_loss, model_acc = test_eval[0], test_eval[1]\n",
        "  # we do rounding for more accurate results\n",
        "\n",
        "  y_pred = model.predict(x_test)\n",
        "  y_pred = np.argmax(np.round(y_pred),axis=1)\n",
        "\n",
        "  model_acc = accuracy_score(y_test, y_pred)\n",
        "  return model_acc"
      ]
    },
    {
      "cell_type": "code",
      "execution_count": 194,
      "metadata": {
        "colab": {
          "base_uri": "https://localhost:8080/",
          "height": 1000
        },
        "id": "5hc5pVVwpxVE",
        "outputId": "5a3b0361-3972-4ced-d2ca-8b2fdb1b2a4e"
      },
      "outputs": [
        {
          "output_type": "stream",
          "name": "stdout",
          "text": [
            "(5939, 28, 28, 1) (59, 28, 28, 1)\n",
            "[[[ 0.17960791  0.07543183  0.18482088  0.3080404  -0.20818645\n",
            "   -0.03674788 -0.19870181  0.0281267  -0.43410698  0.14069062\n",
            "   -0.08149236  0.01538937 -0.03276083 -0.21810678  0.13689558\n",
            "   -0.12765189 -0.11696493  0.04571597  0.5542958  -1.2219586\n",
            "   -0.4128435   0.11068984 -0.05509845 -0.88018674  0.49373636\n",
            "   -1.4402426  -0.50847334 -0.4757487  -0.63492036  0.01766208\n",
            "   -0.05883409  0.2063197 ]]\n",
            "\n",
            " [[ 0.4376248  -0.25332198 -0.48668444 -0.62781596 -0.13852984\n",
            "    0.16677736  0.17161024 -0.04690477  0.5304402   0.4333247\n",
            "   -0.62823236  0.37262744 -0.00746595 -0.3593421   0.44353688\n",
            "    0.44590104  0.4621994   0.27729172  0.1627767  -0.6659201\n",
            "   -0.81743175 -0.49834695  0.69781995 -0.62456244 -0.77836806\n",
            "   -0.25319362  0.13053253  0.40791398  0.46675915 -0.10575999\n",
            "   -0.14844456  0.69376695]]\n",
            "\n",
            " [[ 0.09916951 -0.18255913  0.22781664 -0.35778022  0.09373383\n",
            "    0.3941446   0.03869203 -0.1000521   0.09301855 -0.53915524\n",
            "    0.3770111   0.2518045  -0.56836003  0.5064056   0.25453424\n",
            "   -0.17210333  0.2424826   0.06542972 -0.07081175  0.36199656\n",
            "   -0.45873305 -0.82183665  0.08978843  0.49843124 -0.223866\n",
            "    0.3098245   0.33354402  0.12329794  0.38763994  0.00591451\n",
            "   -0.05544417  0.18851417]]]\n",
            "[[[ 0.17960791  0.07543183  0.18482088  0.3080404  -0.20818645\n",
            "   -0.03674788 -0.19870181  0.0281267  -0.43410698  0.14069062\n",
            "   -0.08149236  0.01538937 -0.03276083 -0.21810678  0.13689558\n",
            "   -0.12765189 -0.11696493  0.04571597  0.5542958  -1.2219586\n",
            "   -0.4128435   0.11068984 -0.05509845 -0.88018674  0.49373636\n",
            "   -1.4402426  -0.50847334 -0.4757487  -0.63492036  0.01766208\n",
            "   -0.05883409  0.2063197 ]]\n",
            "\n",
            " [[ 0.4376248  -0.25332198 -0.48668444 -0.62781596 -0.13852984\n",
            "    0.16677736  0.17161024 -0.04690477  0.5304402   0.4333247\n",
            "   -0.62823236  0.37262744 -0.00746595 -0.3593421   0.44353688\n",
            "    0.44590104  0.4621994   0.27729172  0.1627767  -0.6659201\n",
            "   -0.81743175 -0.49834695  0.69781995 -0.62456244 -0.77836806\n",
            "   -0.25319362  0.13053253  0.40791398  0.46675915 -0.10575999\n",
            "   -0.14844456  0.69376695]]\n",
            "\n",
            " [[ 0.09916951 -0.18255913  0.22781664 -0.35778022  0.09373383\n",
            "    0.3941446   0.03869203 -0.1000521   0.09301855 -0.53915524\n",
            "    0.3770111   0.2518045  -0.56836003  0.5064056   0.25453424\n",
            "   -0.17210333  0.2424826   0.06542972 -0.07081175  0.36199656\n",
            "   -0.45873305 -0.82183665  0.08978843  0.49843124 -0.223866\n",
            "    0.3098245   0.33354402  0.12329794  0.38763994  0.00591451\n",
            "   -0.05544417  0.18851417]]]\n",
            "Epoch 1/60\n",
            "60/60 [==============================] - 4s 27ms/step - loss: 0.6863 - accuracy: 0.7651 - val_loss: 0.5464 - val_accuracy: 0.8136\n",
            "Epoch 2/60\n",
            "60/60 [==============================] - 1s 16ms/step - loss: 0.4185 - accuracy: 0.8634 - val_loss: 0.4556 - val_accuracy: 0.8305\n",
            "Epoch 3/60\n",
            "60/60 [==============================] - 1s 16ms/step - loss: 0.3400 - accuracy: 0.8875 - val_loss: 0.4123 - val_accuracy: 0.8814\n",
            "Epoch 4/60\n",
            "60/60 [==============================] - 1s 16ms/step - loss: 0.3002 - accuracy: 0.8968 - val_loss: 0.3579 - val_accuracy: 0.9153\n",
            "Epoch 5/60\n",
            "60/60 [==============================] - 1s 16ms/step - loss: 0.2575 - accuracy: 0.9143 - val_loss: 0.4179 - val_accuracy: 0.8814\n",
            "Epoch 6/60\n",
            "60/60 [==============================] - 1s 16ms/step - loss: 0.2166 - accuracy: 0.9259 - val_loss: 0.4446 - val_accuracy: 0.8644\n",
            "Epoch 7/60\n",
            "60/60 [==============================] - 1s 16ms/step - loss: 0.1892 - accuracy: 0.9340 - val_loss: 0.4497 - val_accuracy: 0.8475\n",
            "Epoch 8/60\n",
            "60/60 [==============================] - 1s 17ms/step - loss: 0.1613 - accuracy: 0.9481 - val_loss: 0.4040 - val_accuracy: 0.8814\n",
            "Epoch 9/60\n",
            "60/60 [==============================] - 1s 17ms/step - loss: 0.1491 - accuracy: 0.9540 - val_loss: 0.5977 - val_accuracy: 0.8136\n",
            "Epoch 10/60\n",
            "60/60 [==============================] - 1s 16ms/step - loss: 0.1353 - accuracy: 0.9555 - val_loss: 0.5077 - val_accuracy: 0.8305\n",
            "Epoch 11/60\n",
            "60/60 [==============================] - 1s 16ms/step - loss: 0.1052 - accuracy: 0.9687 - val_loss: 0.6186 - val_accuracy: 0.8475\n",
            "Epoch 12/60\n",
            "60/60 [==============================] - 1s 16ms/step - loss: 0.0922 - accuracy: 0.9741 - val_loss: 0.5678 - val_accuracy: 0.8475\n",
            "Epoch 13/60\n",
            "60/60 [==============================] - 1s 16ms/step - loss: 0.0729 - accuracy: 0.9786 - val_loss: 0.5115 - val_accuracy: 0.8475\n",
            "Epoch 14/60\n",
            "60/60 [==============================] - 1s 17ms/step - loss: 0.0620 - accuracy: 0.9830 - val_loss: 0.4823 - val_accuracy: 0.8644\n",
            "Epoch 15/60\n",
            "60/60 [==============================] - 1s 17ms/step - loss: 0.0530 - accuracy: 0.9855 - val_loss: 0.6503 - val_accuracy: 0.8305\n",
            "Epoch 16/60\n",
            "60/60 [==============================] - 1s 17ms/step - loss: 0.0355 - accuracy: 0.9912 - val_loss: 0.5206 - val_accuracy: 0.8644\n",
            "Epoch 17/60\n",
            "60/60 [==============================] - 1s 17ms/step - loss: 0.0325 - accuracy: 0.9929 - val_loss: 0.6908 - val_accuracy: 0.8644\n",
            "Epoch 18/60\n",
            "60/60 [==============================] - 1s 17ms/step - loss: 0.0221 - accuracy: 0.9963 - val_loss: 0.7241 - val_accuracy: 0.8644\n",
            "Epoch 19/60\n",
            "60/60 [==============================] - 1s 17ms/step - loss: 0.0170 - accuracy: 0.9970 - val_loss: 0.6920 - val_accuracy: 0.8644\n",
            "Epoch 20/60\n",
            "60/60 [==============================] - 1s 17ms/step - loss: 0.0140 - accuracy: 0.9975 - val_loss: 0.7425 - val_accuracy: 0.8644\n",
            "Epoch 21/60\n",
            "60/60 [==============================] - 1s 17ms/step - loss: 0.0116 - accuracy: 0.9978 - val_loss: 0.7644 - val_accuracy: 0.8475\n",
            "Epoch 22/60\n",
            "60/60 [==============================] - 1s 17ms/step - loss: 0.0081 - accuracy: 0.9990 - val_loss: 0.7412 - val_accuracy: 0.8644\n",
            "Epoch 23/60\n",
            "60/60 [==============================] - 1s 17ms/step - loss: 0.0059 - accuracy: 0.9993 - val_loss: 0.7502 - val_accuracy: 0.8475\n",
            "Epoch 24/60\n",
            "60/60 [==============================] - 1s 17ms/step - loss: 0.0049 - accuracy: 0.9993 - val_loss: 0.7628 - val_accuracy: 0.8475\n",
            "Epoch 25/60\n",
            "60/60 [==============================] - 1s 17ms/step - loss: 0.0042 - accuracy: 0.9995 - val_loss: 0.7793 - val_accuracy: 0.8305\n",
            "Epoch 26/60\n",
            "60/60 [==============================] - 1s 17ms/step - loss: 0.0037 - accuracy: 0.9995 - val_loss: 0.7800 - val_accuracy: 0.8475\n",
            "Epoch 27/60\n",
            "60/60 [==============================] - 1s 17ms/step - loss: 0.0033 - accuracy: 0.9995 - val_loss: 0.8075 - val_accuracy: 0.8475\n",
            "Epoch 28/60\n",
            "60/60 [==============================] - 1s 17ms/step - loss: 0.0031 - accuracy: 0.9995 - val_loss: 0.8220 - val_accuracy: 0.8475\n",
            "Epoch 29/60\n",
            "60/60 [==============================] - 1s 17ms/step - loss: 0.0030 - accuracy: 0.9995 - val_loss: 0.8196 - val_accuracy: 0.8475\n",
            "Epoch 30/60\n",
            "60/60 [==============================] - 1s 17ms/step - loss: 0.0028 - accuracy: 0.9995 - val_loss: 0.8300 - val_accuracy: 0.8475\n",
            "Epoch 31/60\n",
            "60/60 [==============================] - 1s 17ms/step - loss: 0.0027 - accuracy: 0.9995 - val_loss: 0.8295 - val_accuracy: 0.8475\n",
            "Epoch 32/60\n",
            "60/60 [==============================] - 1s 17ms/step - loss: 0.0026 - accuracy: 0.9995 - val_loss: 0.8344 - val_accuracy: 0.8475\n",
            "Epoch 33/60\n",
            "60/60 [==============================] - 1s 17ms/step - loss: 0.0025 - accuracy: 0.9995 - val_loss: 0.8418 - val_accuracy: 0.8475\n",
            "Epoch 34/60\n",
            "60/60 [==============================] - 1s 17ms/step - loss: 0.0024 - accuracy: 0.9995 - val_loss: 0.8344 - val_accuracy: 0.8475\n",
            "Epoch 35/60\n",
            "60/60 [==============================] - 1s 17ms/step - loss: 0.0023 - accuracy: 0.9995 - val_loss: 0.8510 - val_accuracy: 0.8475\n",
            "Epoch 36/60\n",
            "60/60 [==============================] - 1s 17ms/step - loss: 0.0022 - accuracy: 0.9995 - val_loss: 0.8460 - val_accuracy: 0.8475\n",
            "Epoch 37/60\n",
            "60/60 [==============================] - 1s 17ms/step - loss: 0.0021 - accuracy: 0.9995 - val_loss: 0.8506 - val_accuracy: 0.8475\n",
            "Epoch 38/60\n",
            "60/60 [==============================] - 1s 17ms/step - loss: 0.0020 - accuracy: 0.9995 - val_loss: 0.8458 - val_accuracy: 0.8475\n",
            "Epoch 39/60\n",
            "60/60 [==============================] - 1s 17ms/step - loss: 0.0019 - accuracy: 0.9995 - val_loss: 0.8508 - val_accuracy: 0.8475\n",
            "Epoch 40/60\n",
            "60/60 [==============================] - 1s 17ms/step - loss: 0.0018 - accuracy: 0.9997 - val_loss: 0.8735 - val_accuracy: 0.8475\n",
            "Epoch 41/60\n",
            "60/60 [==============================] - 1s 17ms/step - loss: 0.0016 - accuracy: 0.9998 - val_loss: 0.8701 - val_accuracy: 0.8475\n",
            "Epoch 42/60\n",
            "60/60 [==============================] - 1s 17ms/step - loss: 0.0016 - accuracy: 0.9998 - val_loss: 0.8648 - val_accuracy: 0.8475\n",
            "Epoch 43/60\n",
            "60/60 [==============================] - 1s 17ms/step - loss: 0.0015 - accuracy: 0.9998 - val_loss: 0.8604 - val_accuracy: 0.8475\n",
            "Epoch 44/60\n",
            "60/60 [==============================] - 1s 17ms/step - loss: 0.0014 - accuracy: 0.9998 - val_loss: 0.8760 - val_accuracy: 0.8475\n",
            "Epoch 45/60\n",
            "60/60 [==============================] - 1s 17ms/step - loss: 0.0013 - accuracy: 0.9998 - val_loss: 0.8780 - val_accuracy: 0.8475\n",
            "Epoch 46/60\n",
            "60/60 [==============================] - 1s 17ms/step - loss: 0.0012 - accuracy: 0.9998 - val_loss: 0.8775 - val_accuracy: 0.8475\n",
            "Epoch 47/60\n",
            "60/60 [==============================] - 1s 17ms/step - loss: 0.0012 - accuracy: 0.9998 - val_loss: 0.8857 - val_accuracy: 0.8475\n",
            "Epoch 48/60\n",
            "60/60 [==============================] - 1s 17ms/step - loss: 0.0011 - accuracy: 0.9998 - val_loss: 0.8910 - val_accuracy: 0.8475\n",
            "Epoch 49/60\n",
            "60/60 [==============================] - 1s 17ms/step - loss: 0.0011 - accuracy: 0.9998 - val_loss: 0.8955 - val_accuracy: 0.8475\n",
            "Epoch 50/60\n",
            "60/60 [==============================] - 1s 17ms/step - loss: 0.0010 - accuracy: 0.9998 - val_loss: 0.8950 - val_accuracy: 0.8475\n",
            "Epoch 51/60\n",
            "60/60 [==============================] - 1s 17ms/step - loss: 9.9214e-04 - accuracy: 0.9998 - val_loss: 0.9082 - val_accuracy: 0.8475\n",
            "Epoch 52/60\n",
            "60/60 [==============================] - 1s 17ms/step - loss: 9.5045e-04 - accuracy: 0.9998 - val_loss: 0.9038 - val_accuracy: 0.8475\n",
            "Epoch 53/60\n",
            "60/60 [==============================] - 1s 17ms/step - loss: 9.0658e-04 - accuracy: 0.9998 - val_loss: 0.9100 - val_accuracy: 0.8475\n",
            "Epoch 54/60\n",
            "60/60 [==============================] - 1s 17ms/step - loss: 8.7053e-04 - accuracy: 1.0000 - val_loss: 0.9188 - val_accuracy: 0.8475\n",
            "Epoch 55/60\n",
            "60/60 [==============================] - 1s 17ms/step - loss: 8.3116e-04 - accuracy: 1.0000 - val_loss: 0.9128 - val_accuracy: 0.8475\n",
            "Epoch 56/60\n",
            "60/60 [==============================] - 1s 17ms/step - loss: 8.0136e-04 - accuracy: 1.0000 - val_loss: 0.9093 - val_accuracy: 0.8475\n",
            "Epoch 57/60\n",
            "60/60 [==============================] - 1s 17ms/step - loss: 7.6932e-04 - accuracy: 1.0000 - val_loss: 0.9156 - val_accuracy: 0.8475\n",
            "Epoch 58/60\n",
            "60/60 [==============================] - 1s 17ms/step - loss: 7.4316e-04 - accuracy: 1.0000 - val_loss: 0.9059 - val_accuracy: 0.8475\n",
            "Epoch 59/60\n",
            "60/60 [==============================] - 1s 17ms/step - loss: 6.6634e-04 - accuracy: 1.0000 - val_loss: 0.9159 - val_accuracy: 0.8475\n",
            "Epoch 60/60\n",
            "60/60 [==============================] - 1s 17ms/step - loss: 6.4315e-04 - accuracy: 1.0000 - val_loss: 0.9254 - val_accuracy: 0.8475\n",
            "Test Accuracy: 0.9013\n"
          ]
        },
        {
          "output_type": "display_data",
          "data": {
            "text/plain": [
              "<Figure size 432x288 with 1 Axes>"
            ],
            "image/png": "[encoded data removed]"
          },
          "metadata": {
            "needs_background": "light"
          }
        }
      ],
      "source": [
        "minimum_labeled_samples = [5999]\n",
        "\n",
        "\n",
        "for n in minimum_labeled_samples:\n",
        "  model = train_classifier(n)\n",
        "  model_acc = calculate_metrics(model)\n",
        "  print(f\"Test Accuracy: {model_acc}\")\n",
        "  with open(\"./results.txt\", mode=\"a\") as f:\n",
        "    f.write(f\"\\n{n}\\t{model_acc}\")"
      ]
    },
    {
      "cell_type": "code",
      "execution_count": 203,
      "metadata": {
        "colab": {
          "base_uri": "https://localhost:8080/",
          "height": 298
        },
        "id": "tLr3afizKZmi",
        "outputId": "fa6ffda4-3b6e-4eca-c00f-51390147b3bd"
      },
      "outputs": [
        {
          "output_type": "execute_result",
          "data": {
            "text/plain": [
              "<function matplotlib.pyplot.show(*args, **kw)>"
            ]
          },
          "metadata": {},
          "execution_count": 203
        },
        {
          "output_type": "display_data",
          "data": {
            "text/plain": [
              "<Figure size 432x288 with 1 Axes>"
            ],
            "image/png": "[encoded data removed]"
          },
          "metadata": {
            "needs_background": "light"
          }
        }
      ],
      "source": [
        "## Plot acc vs sample size of labeled data\n",
        "with open('./results.txt', 'r') as f:\n",
        "  next(f) #header\n",
        "  data = [line.strip('\\n').split('\\t') for line in f]\n",
        "  data = np.array([[float(a), float(b)] for a,b in data])\n",
        "plt.scatter(x=data[:,0], y=data[:,1], label='accuracy')\n",
        "plt.axhline(y=0.9, color='r', linestyle='--')\n",
        "plt.title('Accuracy')\n",
        "plt.legend()\n",
        "plt.show"
      ]
    },
    {
      "cell_type": "code",
      "execution_count": 196,
      "metadata": {
        "colab": {
          "base_uri": "https://localhost:8080/"
        },
        "id": "CAgSU4QNm7R8",
        "outputId": "5f9bd9f1-6c0c-4d72-b337-c2df6ea1c656"
      },
      "outputs": [
        {
          "output_type": "stream",
          "name": "stdout",
          "text": [
            "              precision    recall  f1-score   support\n",
            "\n",
            " T-shirt/top       0.82      0.85      0.83      1000\n",
            "     Trouser       0.99      0.97      0.98      1000\n",
            "    Pullover       0.87      0.86      0.87      1000\n",
            "       Dress       0.90      0.90      0.90      1000\n",
            "        Coat       0.84      0.87      0.86      1000\n",
            "      Sandal       0.98      0.96      0.97      1000\n",
            "       Shirt       0.75      0.70      0.73      1000\n",
            "     Sneaker       0.94      0.96      0.95      1000\n",
            "         Bag       0.96      0.98      0.97      1000\n",
            "  Ankle boot       0.96      0.96      0.96      1000\n",
            "\n",
            "    accuracy                           0.90     10000\n",
            "   macro avg       0.90      0.90      0.90     10000\n",
            "weighted avg       0.90      0.90      0.90     10000\n",
            "\n"
          ]
        }
      ],
      "source": [
        "from sklearn.metrics import classification_report\n",
        "\n",
        "full_model = load_model('./models/classification_complete_5999.h5')\n",
        "\n",
        "predicted_classes = full_model.predict(x_test)\n",
        "predicted_classes = np.argmax(np.round(predicted_classes),axis=1)\n",
        "\n",
        "target_names = [f\"{label_dict[i]}\".format(i) for i in range(num_classes)]\n",
        "print(classification_report(y_test, predicted_classes, target_names=target_names))"
      ]
    },
    {
      "cell_type": "code",
      "source": [
        "correct = np.where(predicted_classes==y_test)[0]\n",
        "print (\"Found %d correct labels\"% len(correct))\n",
        "for i, correct in enumerate(correct[:9]):\n",
        "    plt.subplot(3,3,i+1)\n",
        "    plt.imshow(x_test[correct].reshape(28,28), cmap='gray', interpolation='none')\n",
        "    plt.title(\"Predicted {}, Class {}\".format(predicted_classes[correct], y_test[correct]))\n",
        "    plt.tight_layout()"
      ],
      "metadata": {
        "colab": {
          "base_uri": "https://localhost:8080/",
          "height": 314
        },
        "id": "IfTskd5zCdMY",
        "outputId": "a9244846-8e73-4afe-94dd-4a9fdbf3108c"
      },
      "execution_count": 202,
      "outputs": [
        {
          "output_type": "stream",
          "name": "stdout",
          "text": [
            "Found 9013 correct labels\n"
          ]
        },
        {
          "output_type": "display_data",
          "data": {
            "text/plain": [
              "<Figure size 432x288 with 9 Axes>"
            ],
            "image/png": "[encoded data removed]"
          },
          "metadata": {
            "needs_background": "light"
          }
        }
      ]
    },
    {
      "cell_type": "code",
      "source": [
        "incorrect = np.where(predicted_classes!=y_test)[0]\n",
        "print (\"Found %d correct labels\"% len(incorrect))\n",
        "for i, incorrect in enumerate(incorrect[:9]):\n",
        "    plt.subplot(3,3,i+1)\n",
        "    plt.imshow(x_test[incorrect].reshape(28,28), cmap='gray', interpolation='none')\n",
        "    plt.title(\"Predicted {}, Class {}\".format(predicted_classes[incorrect], y_test[incorrect]))\n",
        "    plt.tight_layout()"
      ],
      "metadata": {
        "colab": {
          "base_uri": "https://localhost:8080/",
          "height": 314
        },
        "id": "DCq7UQZiCx6C",
        "outputId": "7f9701e3-bf32-4086-f582-49a8b27de572"
      },
      "execution_count": 198,
      "outputs": [
        {
          "output_type": "stream",
          "name": "stdout",
          "text": [
            "Found 987 correct labels\n"
          ]
        },
        {
          "output_type": "display_data",
          "data": {
            "text/plain": [
              "<Figure size 432x288 with 9 Axes>"
            ],
            "image/png": "[encoded data removed]"
          },
          "metadata": {
            "needs_background": "light"
          }
        }
      ]
    }
  ],
  "metadata": {
    "accelerator": "GPU",
    "colab": {
      "collapsed_sections": [],
      "name": "fashion_mnist.ipynb",
      "provenance": []
    },
    "gpuClass": "standard",
    "kernelspec": {
      "display_name": "Python 3",
      "name": "python3"
    },
    "language_info": {
      "name": "python"
    }
  },
  "nbformat": 4,
  "nbformat_minor": 0
}